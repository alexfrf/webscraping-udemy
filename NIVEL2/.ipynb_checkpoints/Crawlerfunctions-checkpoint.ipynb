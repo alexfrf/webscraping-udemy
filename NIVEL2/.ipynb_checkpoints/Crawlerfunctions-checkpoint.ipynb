{
 "cells": [
  {
   "cell_type": "code",
   "execution_count": 3,
   "metadata": {},
   "outputs": [],
   "source": [
    "def crawlerapp(name_class,name_file):\n",
    "    from scrapy.crawler import CrawlerProcess\n",
    "    process = CrawlerProcess({\n",
    "        'FEED_FORMAT':'csv',\n",
    "        'FEED URI':'{}.csv'.format(str(name_file))\n",
    "    })\n",
    "\n",
    "    process.crawl(name_class)\n",
    "    return process.start()"
   ]
  }
 ],
 "metadata": {
  "kernelspec": {
   "display_name": "Python 3",
   "language": "python",
   "name": "python3"
  },
  "language_info": {
   "codemirror_mode": {
    "name": "ipython",
    "version": 3
   },
   "file_extension": ".py",
   "mimetype": "text/x-python",
   "name": "python",
   "nbconvert_exporter": "python",
   "pygments_lexer": "ipython3",
   "version": "3.7.6"
  }
 },
 "nbformat": 4,
 "nbformat_minor": 4
}
