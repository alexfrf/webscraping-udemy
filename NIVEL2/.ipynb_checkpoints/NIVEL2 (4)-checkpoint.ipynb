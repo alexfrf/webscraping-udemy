{
 "cells": [
  {
   "cell_type": "markdown",
   "metadata": {},
   "source": [
    "## Webscrapping NIVEL 2"
   ]
  },
  {
   "cell_type": "markdown",
   "metadata": {},
   "source": [
    "### 2.4.- Extracción vertical y horizontal en dos niveles diferentes de profundidad en TripAdvisor con Scrapy"
   ]
  },
  {
   "cell_type": "markdown",
   "metadata": {},
   "source": [
    "**OBJETIVO:**\n",
    "    - Extraer todas las opiniones de los usuarios que dejan reviews en hoteles de Guayaquil en tripadvisor\n",
    "    - Aprender a realizar extracciones de dos niveles de verticalidad y dos niveles de horizontalidad\n",
    "    - Aprender a reducir el espectro de busqueda para filtrar URLs en las reglas\n",
    "    - Evitar obtener URLs repetidas"
   ]
  },
  {
   "cell_type": "code",
   "execution_count": 1,
   "metadata": {},
   "outputs": [],
   "source": [
    "import numpy as np\n",
    "import pandas as pd\n",
    "from scrapy.item import Field\n",
    "from scrapy.item import Item\n",
    "from scrapy.spiders import CrawlSpider,Rule\n",
    "from scrapy.selector import Selector\n",
    "from scrapy.loader.processors import MapCompose\n",
    "from scrapy.linkextractors import LinkExtractor\n",
    "from scrapy.loader import ItemLoader"
   ]
  },
  {
   "cell_type": "code",
   "execution_count": 2,
   "metadata": {},
   "outputs": [],
   "source": [
    "class Opinion(Item):\n",
    "    titulo = Field()\n",
    "    calificacion = Field()\n",
    "    contenido = Field()\n",
    "    autor = Field()\n",
    "    \n",
    "class TripAdvisor(CrawlSpider):\n",
    "    name = 'OpinionesTripAdvisor'\n",
    "    custom_settings = {\n",
    "        'USER AGENT':'Mozilla/5.0 (Windows NT 10.0; Win64; x64) AppleWebKit/537.36 (KHTML, like Gecko)Chrome/80.0.3987.149 Safari/537.36',\n",
    "        'CLOSESPIDER_PAGECOUNT':30\n",
    "    }\n",
    "    \n",
    "    allowed_domains = ['tripadvisor.com']\n",
    "    start_urls = ['https://www.tripadvisor.es/Hotels-g187514-Madrid-Hotels.html']\n",
    "    \n",
    "    download_delay = 1\n",
    "    \n",
    "    rules = (\n",
    "     Rule( # https://www.tripadvisor.com/Hotels-g303845-Guayaquil_Guayas_Province-Hotels.html\n",
    "       LinkExtractor(  # PAGINACION DE HOTELES (HORIZONTALIDAD DE PRIMER NIVEL)\n",
    "         allow=r'-oa\\d+-' \n",
    "       ), follow=True), # No tiene callback porque aun no voy a extraer datos de aqui. Solamente voy a seguir otras URLs.\n",
    "     Rule( \n",
    "       LinkExtractor( # DETALLE DE HOTELES (VERTICALIDAD DE PRIMER NIVEL)\n",
    "         allow=r'/Hotel_Review-', \n",
    "         restrict_xpaths=['//div[@id=\"taplc_hsx_hotel_list_lite_dusty_hotels_combined_sponsored_0\"]'] \n",
    "           # Evita obtener URLs repetidas reduciendo el espectro de busqueda de las URLs a solamente un contenedor especifico dentro de un XPATH\n",
    "       ), follow=True), # No tiene callback porque aun no voy a extraer datos de aqui. Solamente voy a seguir otras URLs.\n",
    "     Rule( \n",
    "       LinkExtractor( # HORIZONTALIDAD DE OPINIONES DE UN HOTEL (HORIZONTALIDAD DE SEGUNDO NIVEL)\n",
    "         allow=r'-or\\d+-'\n",
    "       ), follow=True), # No tiene callback porque aun no voy a extraer datos de aqui. Solamente voy a seguir otras URLs.\n",
    "     Rule(\n",
    "       LinkExtractor( # DETALLE DE PERFIL DE USUARIO (VERTICALIDAD DE SEGUNDO NIVEL)\n",
    "         allow=r'/Profile/',\n",
    "         restrict_xpaths=['//div[@data-test-target=\"reviews-tab\"]'] # Evita obtener URLs repetidas reduciendo el espectro de busqueda de las URLs a solamente un contenedor especifico dentro de un XPATH\n",
    "       ), follow=True, callback='parse_opinion'), # Aqui si voy a utilizar el callback, debido a que en estas paginas es donde yo quiero extraer datos\n",
    "    )\n",
    "    \n",
    "    \n",
    "    def parse_opinion(self, response):\n",
    "        sel = Selector(response)\n",
    "        opiniones = sel.xpath('//div[@id=\"content\"]/div/div') \n",
    "        autor = sel.xpath('//h1/span/text()').get()\n",
    "        for opinion in opiniones:\n",
    "            item = ItemLoader(Opinion(), opinion)\n",
    "            item.add_value('autor', autor)\n",
    "            item.add_xpath('titulo', './/div[@class=\"social-section-review-ReviewSection__title--dTu08 social-section-review-ReviewSection__linked--kI3zg\"]/text()')\n",
    "            item.add_xpath('hotel', './/div[@class=\"social-poi-POIObject__poi_name--1QohT ui_link\"]/text()')\n",
    "            item.add_xpath('contenido', './/q/text()', \n",
    "                           MapCompose(lambda i: i.replace('\\n', '').replace('\\r', '')))\n",
    "            item.add_xpath('calificacion', './/div[contains(@class, \"social-section-review\")]//span[contains(@class, \"ui_bubble_rating\")]/@class', \n",
    "                               MapCompose(lambda i: i.split('_')[-1]))\n",
    "            yield item.load_item()"
   ]
  },
  {
   "cell_type": "code",
   "execution_count": 3,
   "metadata": {},
   "outputs": [
    {
     "name": "stderr",
     "output_type": "stream",
     "text": [
      "2020-12-27 19:54:36 [scrapy.utils.log] INFO: Scrapy 2.4.1 started (bot: scrapybot)\n",
      "2020-12-27 19:54:36 [scrapy.utils.log] INFO: Versions: lxml 4.5.0.0, libxml2 2.9.9, cssselect 1.1.0, parsel 1.6.0, w3lib 1.22.0, Twisted 20.3.0, Python 3.7.6 (default, Jan  8 2020, 20:23:39) [MSC v.1916 64 bit (AMD64)], pyOpenSSL 19.1.0 (OpenSSL 1.1.1d  10 Sep 2019), cryptography 2.8, Platform Windows-10-10.0.18362-SP0\n",
      "2020-12-27 19:54:36 [scrapy.utils.log] DEBUG: Using reactor: twisted.internet.selectreactor.SelectReactor\n",
      "2020-12-27 19:54:36 [scrapy.crawler] INFO: Overridden settings:\n",
      "{'CLOSESPIDER_PAGECOUNT': 30}\n",
      "2020-12-27 19:54:36 [scrapy.extensions.telnet] INFO: Telnet Password: 81aab282c6262643\n",
      "2020-12-27 19:54:36 [scrapy.middleware] INFO: Enabled extensions:\n",
      "['scrapy.extensions.corestats.CoreStats',\n",
      " 'scrapy.extensions.telnet.TelnetConsole',\n",
      " 'scrapy.extensions.closespider.CloseSpider',\n",
      " 'scrapy.extensions.logstats.LogStats']\n",
      "2020-12-27 19:54:36 [scrapy.middleware] INFO: Enabled downloader middlewares:\n",
      "['scrapy.downloadermiddlewares.httpauth.HttpAuthMiddleware',\n",
      " 'scrapy.downloadermiddlewares.downloadtimeout.DownloadTimeoutMiddleware',\n",
      " 'scrapy.downloadermiddlewares.defaultheaders.DefaultHeadersMiddleware',\n",
      " 'scrapy.downloadermiddlewares.useragent.UserAgentMiddleware',\n",
      " 'scrapy.downloadermiddlewares.retry.RetryMiddleware',\n",
      " 'scrapy.downloadermiddlewares.redirect.MetaRefreshMiddleware',\n",
      " 'scrapy.downloadermiddlewares.httpcompression.HttpCompressionMiddleware',\n",
      " 'scrapy.downloadermiddlewares.redirect.RedirectMiddleware',\n",
      " 'scrapy.downloadermiddlewares.cookies.CookiesMiddleware',\n",
      " 'scrapy.downloadermiddlewares.httpproxy.HttpProxyMiddleware',\n",
      " 'scrapy.downloadermiddlewares.stats.DownloaderStats']\n",
      "2020-12-27 19:54:36 [scrapy.middleware] INFO: Enabled spider middlewares:\n",
      "['scrapy.spidermiddlewares.httperror.HttpErrorMiddleware',\n",
      " 'scrapy.spidermiddlewares.offsite.OffsiteMiddleware',\n",
      " 'scrapy.spidermiddlewares.referer.RefererMiddleware',\n",
      " 'scrapy.spidermiddlewares.urllength.UrlLengthMiddleware',\n",
      " 'scrapy.spidermiddlewares.depth.DepthMiddleware']\n",
      "2020-12-27 19:54:36 [scrapy.middleware] INFO: Enabled item pipelines:\n",
      "[]\n",
      "2020-12-27 19:54:36 [scrapy.core.engine] INFO: Spider opened\n",
      "2020-12-27 19:54:36 [scrapy.extensions.logstats] INFO: Crawled 0 pages (at 0 pages/min), scraped 0 items (at 0 items/min)\n",
      "2020-12-27 19:54:36 [scrapy.extensions.telnet] INFO: Telnet console listening on 127.0.0.1:6023\n",
      "2020-12-27 19:54:38 [scrapy.core.engine] DEBUG: Crawled (200) <GET https://www.tripadvisor.es/Hotels-g187514-Madrid-Hotels.html> (referer: None)\n",
      "2020-12-27 19:54:39 [scrapy.spidermiddlewares.offsite] DEBUG: Filtered offsite request to 'www.tripadvisor.es': <GET https://www.tripadvisor.es/Hotels-g187514-oa30-Madrid-Hotels.html#BODYCON>\n",
      "2020-12-27 19:54:39 [scrapy.core.engine] INFO: Closing spider (finished)\n",
      "2020-12-27 19:54:39 [scrapy.statscollectors] INFO: Dumping Scrapy stats:\n",
      "{'downloader/request_bytes': 251,\n",
      " 'downloader/request_count': 1,\n",
      " 'downloader/request_method_count/GET': 1,\n",
      " 'downloader/response_bytes': 342216,\n",
      " 'downloader/response_count': 1,\n",
      " 'downloader/response_status_count/200': 1,\n",
      " 'elapsed_time_seconds': 2.593571,\n",
      " 'finish_reason': 'finished',\n",
      " 'finish_time': datetime.datetime(2020, 12, 27, 18, 54, 39, 251069),\n",
      " 'log_count/DEBUG': 2,\n",
      " 'log_count/INFO': 10,\n",
      " 'offsite/domains': 1,\n",
      " 'offsite/filtered': 61,\n",
      " 'request_depth_max': 1,\n",
      " 'response_received_count': 1,\n",
      " 'scheduler/dequeued': 1,\n",
      " 'scheduler/dequeued/memory': 1,\n",
      " 'scheduler/enqueued': 1,\n",
      " 'scheduler/enqueued/memory': 1,\n",
      " 'start_time': datetime.datetime(2020, 12, 27, 18, 54, 36, 657498)}\n",
      "2020-12-27 19:54:39 [scrapy.core.engine] INFO: Spider closed (finished)\n"
     ]
    }
   ],
   "source": [
    "from scrapy.spiders import Spider\n",
    "from scrapy.crawler import CrawlerProcess\n",
    "\n",
    "if __name__ == \"__main__\": # Código que se va a ejecutar al dar clic en RUN\n",
    "        process = CrawlerProcess()\n",
    "        process.crawl(TripAdvisor) # Nombre de la clase de mi Spider\n",
    "        process.start()"
   ]
  }
 ],
 "metadata": {
  "kernelspec": {
   "display_name": "Python 3",
   "language": "python",
   "name": "python3"
  },
  "language_info": {
   "codemirror_mode": {
    "name": "ipython",
    "version": 3
   },
   "file_extension": ".py",
   "mimetype": "text/x-python",
   "name": "python",
   "nbconvert_exporter": "python",
   "pygments_lexer": "ipython3",
   "version": "3.7.6"
  }
 },
 "nbformat": 4,
 "nbformat_minor": 4
}
