{
 "cells": [
  {
   "cell_type": "code",
   "execution_count": 4,
   "metadata": {},
   "outputs": [],
   "source": [
    "def crawlerapp(name_class):\n",
    "    from scrapy.crawler import CrawlerProcess\n",
    "    process = CrawlerProcess({\n",
    "        'FEED_FORMAT':'csv',\n",
    "        'FEED URI':'{}.csv'.format(name_class.name)\n",
    "    })\n",
    "\n",
    "    process.crawl(name_class)\n",
    "    return process.start()"
   ]
  }
 ],
 "metadata": {
  "kernelspec": {
   "display_name": "Python 3",
   "language": "python",
   "name": "python3"
  },
  "language_info": {
   "codemirror_mode": {
    "name": "ipython",
    "version": 3
   },
   "file_extension": ".py",
   "mimetype": "text/x-python",
   "name": "python",
   "nbconvert_exporter": "python",
   "pygments_lexer": "ipython3",
   "version": "3.7.6"
  }
 },
 "nbformat": 4,
 "nbformat_minor": 4
}
