{
 "cells": [
  {
   "cell_type": "markdown",
   "metadata": {},
   "source": [
    "## Web Srapping Nivel 3 - Páginas Dinámicas"
   ]
  },
  {
   "cell_type": "markdown",
   "metadata": {},
   "source": [
    "### 3.2.- Esperando eventos (SELENIUM) - Extracción en OLX"
   ]
  },
  {
   "cell_type": "code",
   "execution_count": 1,
   "metadata": {},
   "outputs": [],
   "source": [
    "import random\n",
    "from selenium import webdriver\n",
    "from time import sleep\n",
    "from selenium.webdriver.common.by import By\n",
    "from selenium.webdriver.support import expected_conditions as EC\n",
    "from selenium.webdriver.support.ui import WebDriverWait\n",
    "\n",
    "driver = webdriver.Chrome('C:/Users/aleex/Downloads/chromedriver_win32/chromedriver.exe')"
   ]
  },
  {
   "cell_type": "code",
   "execution_count": 3,
   "metadata": {
    "scrolled": false
   },
   "outputs": [
    {
     "data": {
      "text/plain": [
       "[{'$ 1,300': 'Respuesto VOLVO 850'},\n",
       " {'$ 460': 'Vitrina Frigorifica Home 211l Blanca Sc211'},\n",
       " {'$ 500': 'COMBO INDEPENDIZATE'},\n",
       " {'$ 5': 'Pisos desgastados Mármol sin brillo fallas'},\n",
       " {'$ 139': 'LIQUIDACION BAR NUEVO MODERNO CON LUCES COLOR SEPIA'},\n",
       " {'$ 35': 'Colonia Lbel'},\n",
       " {'$ 1': 'Torta de oreo'},\n",
       " {'$ 1': 'REPUESTOS NUEVOS Y USADOS PARA EL NISSAN BLUEBIRD MODELO 94/97'},\n",
       " {'$ 35': \"Pack L'bel\"},\n",
       " {'$ 70': 'Vendo Reloj ORIENT de mujer'},\n",
       " {'$ 250': 'Alquiler de casa en las acacias'},\n",
       " {'$ 12,300': 'CHEVROLET AVEO EMOTION GLS'},\n",
       " {'$ 320': 'BANCA MULTI TRABAJO'},\n",
       " {'$ 15': 'Loción Hidratante para El Cuerpo'},\n",
       " {'$ 15': 'Perfume Sweet Black de Cyzone'},\n",
       " {'$ 80': 'Congelador grande'},\n",
       " {'$ 100': 'Retratos a lapiz de color'},\n",
       " {'$ 15': 'Leva y pantalon'},\n",
       " {'$ 200': 'Metalicas Sopalo...'},\n",
       " {'$ 20': 'Set de aretes esika'},\n",
       " {'$ 70': 'Vans orginal, talla 37 eur.'},\n",
       " {'$ 4': 'KIT DE TIRAS DE NEON NUEVO EN STOCK EN DESCUENTO EXCLUSIVO UNICAMENTE AQUI EN NEGOVENTAS LOS MEJORES PRECIOS DEL MERCADO'},\n",
       " {'$ 199': 'SILLON RECLINABLE CON PORTA VASOS TIPO CUERINA'},\n",
       " {'$ 1,500': 'Exprimidor de Jugo de Naranja/Jugo de Limón'},\n",
       " {'$ 10': 'Trabajos de gasfiteria trabajos garantizados'},\n",
       " {'$ 120': 'Huawei mate 10 lite con desbloqueo facial'},\n",
       " {'$ 160': 'Motoguaraña STIHS FC 560'},\n",
       " {'$ 60': 'Puerta de fierro'},\n",
       " {'$ 300': 'Chanchitos de buena calidad'},\n",
       " {'$ 13': 'TAPETE DE CORTE 12X12 PULGADAS SILHOUETTE CAMEO 3Y 4'},\n",
       " {'$ 60': 'IMPRESORA TÉRMICA 58MM USB + BLUETOOTHH'},\n",
       " {'$ 20': 'INSTALACION JUEGOS PS3'},\n",
       " {'$ 13': 'Polímero Para Sublimar Algodón Telas y maderas MDF'},\n",
       " {'$ 110': 'Maquina Contadora De Billete, Bancos, Oficinas'},\n",
       " {'$ 260': 'Lavadora Mabe 18K'},\n",
       " {'$ 8': 'Crema Blanqueadora De Axilas Con Colágeno Y Leche Aichun Beauty 50ml'},\n",
       " {'$ 35': 'Polimero De Sublimar Ceramica vidrio superficies lisas de dificil adherencia Original 35'},\n",
       " {'$ 35': 'Alquiler inflables'},\n",
       " {'$ 375': 'Maniqui Muñeco Adulto de RCP Prestan Profesional / Almohadilla'},\n",
       " {'$ 30': 'RESINA POLIURETANO FLEXIBLE'},\n",
       " {'$ 35': 'Polimero De Sublimar Ceramica vidrio superficies lisas de dificil adherencia Original 35'},\n",
       " {'$ 35': 'Alquiler inflables'},\n",
       " {'$ 375': 'Maniqui Muñeco Adulto de RCP Prestan Profesional / Almohadilla'},\n",
       " {'$ 30': 'RESINA POLIURETANO FLEXIBLE'},\n",
       " {'$ 320': 'Vendo batería electrónica Alesis Sample Pad Pro'},\n",
       " {'$ 350': 'Maniquí Muñeco Lactante de RCP Prestan Profesional / Almohadilla'},\n",
       " {'$ 10': 'Almohadilla para RCP'},\n",
       " {'$ 25': 'Válvulas entrenamiento RCP Pack x 10 Unds'},\n",
       " {'$ 45': 'MALETA PARA SCOOTER, bolsa almacenamiento para patinete o bicicleta, carcasa dura, contra agua'},\n",
       " {'$ 5': 'Manta Termica Emergencia Aluminio Mylar'},\n",
       " {'$ 4': 'Mascarilla de Oxigeno para Nebulización Adulto'},\n",
       " {'$ 95': 'Kit Set de Diagnóstico Profesional'},\n",
       " {'$ 25': 'Patines talla 35-36'},\n",
       " {'$ 12': 'EJERCITADOR REVOFLEX XTREME PARA FORTALECER BRAZO PIERNAS ADOMEN'},\n",
       " {'$ 200': 'Television Tv Rca 32 Smart Hd Wifi Youtube Netflix Garantia'},\n",
       " {'$ 390': 'Iphone xr 128gb'},\n",
       " {'$ 70': 'LLANTA Y TUBO PARA SCOOTER scooter llanta kit con tubo, tamaño 10x2,5'},\n",
       " {'$ 650': 'Alquilo, departamento amoblado, Kennedy norte'},\n",
       " {'$ 137,000': 'Suite en venta por estrenar San Juan de Cumbayá - wasi'},\n",
       " {'$ 240,000': 'Departamento en venta con terraza, Cumbaya, - wasi'}]"
      ]
     },
     "execution_count": 3,
     "metadata": {},
     "output_type": "execute_result"
    }
   ],
   "source": [
    "driver.get('https://www.olx.com.ec')\n",
    "for i in range(3): # Voy a darle click en cargar mas 3 veces\n",
    "    try:\n",
    "        # Esperamos a que el boton se encuentre disponible a traves de una espera por eventos\n",
    "        # Espero un maximo de 10 segundos, hasta que se encuentre el boton dentro del DOM\n",
    "        boton = WebDriverWait(driver, 10).until(\n",
    "          EC.presence_of_element_located((By.XPATH, '//button[@data-aut-id=\"btnLoadMore\"]'))\n",
    "        )\n",
    "        # le doy click al boton que espere\n",
    "        boton.click()\n",
    "        #nAnuncios = 20 + (( i + 1 ) * 20 ) # 20 anuncios de carga inicial, y luego 20 anuncios por cada click que he dado\n",
    "        # Espero hasta 10 segundos a que toda la informacion del ultimo anuncio este cargada\n",
    "        WebDriverWait(driver, 10).until(\n",
    "          EC.presence_of_element_located((By.XPATH, '//li[@data-aut-id=\"itemBox\"]'))\n",
    "        )\n",
    "        \n",
    "    except Exception as e:\n",
    "        print (e)\n",
    "        # si hay algun error, rompo el lazo. No me complico.\n",
    "        break\n",
    "\n",
    "# Encuentro cual es el XPATH de cada elemento donde esta la informacion que quiero extraer\n",
    "# Esto es una LISTA. Por eso el metodo esta en plural\n",
    "autos = driver.find_elements_by_xpath('//li[@data-aut-id=\"itemBox\"]')\n",
    "\n",
    "# Recorro cada uno de los anuncios que he encontrado\n",
    "lista = []\n",
    "for auto in autos:\n",
    "    # Por cada anuncio hallo el precio, que en esta pagina principal, rara vez suele no estar, por eso hacemos esta validacion.\n",
    "    try:\n",
    "        precio = auto.find_element_by_xpath('.//span[@data-aut-id=\"itemPrice\"]').text\n",
    "    except:\n",
    "        precio = 'NO DISPONIBLE'\n",
    "    # Por cada anuncio hallo la descripcion\n",
    "    descripcion = auto.find_element_by_xpath('.//span[@data-aut-id=\"itemTitle\"]').text\n",
    "    lista.append({precio:descripcion})\n",
    "lista"
   ]
  }
 ],
 "metadata": {
  "kernelspec": {
   "display_name": "Python 3",
   "language": "python",
   "name": "python3"
  },
  "language_info": {
   "codemirror_mode": {
    "name": "ipython",
    "version": 3
   },
   "file_extension": ".py",
   "mimetype": "text/x-python",
   "name": "python",
   "nbconvert_exporter": "python",
   "pygments_lexer": "ipython3",
   "version": "3.7.6"
  }
 },
 "nbformat": 4,
 "nbformat_minor": 4
}
