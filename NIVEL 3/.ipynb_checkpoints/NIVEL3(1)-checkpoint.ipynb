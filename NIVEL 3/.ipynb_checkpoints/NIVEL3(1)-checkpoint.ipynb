{
 "cells": [
  {
   "cell_type": "markdown",
   "metadata": {},
   "source": [
    "## Web Srapping Nivel 3 - Páginas Dinámicas"
   ]
  },
  {
   "cell_type": "markdown",
   "metadata": {},
   "source": [
    "### 3.1.- Carga de datos por clicks (SELENIUM) - Extracción en OLX"
   ]
  },
  {
   "cell_type": "code",
   "execution_count": 1,
   "metadata": {},
   "outputs": [],
   "source": [
    "import random\n",
    "from time import sleep\n",
    "from selenium import webdriver\n",
    "\n",
    "driver = webdriver.Chrome('C:/Users/aleex/Downloads/chromedriver_win32/chromedriver.exe')"
   ]
  },
  {
   "cell_type": "markdown",
   "metadata": {},
   "source": [
    "**De la siguiente url, nos interesa extraer los precios y los anuncios de cada artículo que figura**"
   ]
  },
  {
   "cell_type": "markdown",
   "metadata": {},
   "source": [
    "El gran problema aquí es que hemos obtenido las variables que queríamos pero a nivel estático, es decir, sólo se ha cargado la información VISIBLE en la página, cuando pretendíamos obtener TODOS los elementos. Para conseguir dar un paso más debemos programar los clicks que nos permitan \"Mostrar Más\" información. Ésta no se carga de forma instantánea sino que se debe esperar un instante. Para eso, debemos incorporarle al código un tiempo de espera a través de la función SLEEP."
   ]
  },
  {
   "cell_type": "code",
   "execution_count": 2,
   "metadata": {},
   "outputs": [
    {
     "data": {
      "text/plain": [
       "[{'$ 8,000': 'Skoda Fabia poco uso'},\n",
       " {'$ 25,500': 'SOLO INTERESADOS. Vendo KIA SELTOS 2020 AUTOMATICO, único dueño, de oportunidad'},\n",
       " {'$ 5,399': 'Ford Fiesta Power 1.6 2003 Matricula y revision 2020'},\n",
       " {'$ 20,000': 'Compra ya tú Chevrolet Onix Sedán 2021'},\n",
       " {'$ 14,500': 'Cómo de agencia Hyundai i30 del 2013 hatchback con 45.000 kilometros único dueño version full equipo motor 1.8cc DOHC'},\n",
       " {'$ 9,300': 'Dueño vende impecable Renault Sandero Dinamique del 2012 versión full equipo aire acondicionado placas del azuay'},\n",
       " {'$ 16,900': 'Hyundai Accent 2016'},\n",
       " {'$ 12,400': 'Greatwall M4 2015'},\n",
       " {'$ 12,900': 'Chevrolet Optra Advance 2012'},\n",
       " {'$ 15,500': 'Great Wall H5 Modelo 2014'},\n",
       " {'$ 14,900': 'Kia Rio R 5 Puertas 2014'},\n",
       " {'$ 14,900': 'Kia Cerato Forte'},\n",
       " {'$ 9,800': 'Grand Vitara 2003 3 Puertas'},\n",
       " {'$ 15,300': 'Kia Rio R 2017'},\n",
       " {'$ 16,400': 'Hyundai Accent 1.6'},\n",
       " {'$ 12,500': 'Chevrolet Sail 2016'},\n",
       " {'$ 9,800': 'Chevrolet Aveo Activo modelo 2010'},\n",
       " {'$ 13,500': 'Grand Vitara 5P año 2011'},\n",
       " {'$ 16,900': 'Kia Rio R 2018'},\n",
       " {'$ 13,900': 'Chevrolet Aveo Emotion 2016'},\n",
       " {'$ 2,700': 'Mini willys , mini jeep camuflado'},\n",
       " {'$ 30,000': 'Peugeot 3008 como nuevo 23000km'},\n",
       " {'$ 43,900': 'FORD F150 DOBLE CABINA'},\n",
       " {'$ 15,900': 'VOLKSWAGEN NEW JETTA'},\n",
       " {'$ 6,500': 'Vendo Jeep Suzuki'},\n",
       " {'$ 17,600': 'Suzuki Grand Vitara SZ Manual 2017 Blanco 17600$ con 84200km'},\n",
       " {'$ 10,500': 'Cómo nuevo Chevrolet Optra Advance del 2009 versión full equipo techo corredizo electrico asientos de cuero cero choques'},\n",
       " {'$ 6,000': 'Venta automóvil Chery Nice A5'},\n",
       " {'$ 13,000': 'Chevrolet N300 Cargo AC TM 2017'},\n",
       " {'$ 9,500': 'Chevrolet Aveo Activo AC 2011'},\n",
       " {'$ 21,900': 'NISSAN JUKE TURBO 2013 AUTOMATICO 21900$ CON 36000KM'},\n",
       " {'$ 16,500': 'Vendo o cambio Como nuevo Hyundai Sonata del 2015 versión Limited full equipo techo panorámico de cristal'},\n",
       " {'$ 21,500': 'TOYOTA CAMRY EXL 2014'},\n",
       " {'$ 4,100': 'Chevrolet esteem año 98'},\n",
       " {'$ 3,100': 'Susuki forsa 1 año 90 flamante'},\n",
       " {'$ 15,000': 'chevrolet sail 2019'},\n",
       " {'$ 17,600': 'CHEVROLET GRAND VITARA SZ 2017 MANUAL 17600$ CON 71000KM'},\n",
       " {'$ 14,800': 'Flamante Kia Rio R koreano del 2017 con aire acondicionado placas del azuay único dueño'},\n",
       " {'$ 19,200': 'Kia Rio GT line 2020'},\n",
       " {'$ 19,900': 'MAZDA CX9 2009 FULL 19900$ AUTOMÁTICO 126000KM'},\n",
       " {'$ 15,000': 'Vendo Polo Highland 2017'},\n",
       " {'$ 11,800': 'CHEVROLET GRAND VITARA SZ'},\n",
       " {'$ 17,000': 'TOYOTA PRADO 3 PUERTAS AÑO 2006'},\n",
       " {'$ 6,000': 'Hyundai H1 Van H1 Diésel 2.5 2012'},\n",
       " {'$ 15,900': 'Hyundai H45 AC 2017 VALOR 15900$ CON 99052KM'},\n",
       " {'$ 10,900': 'Mitsubishi Outlander 2007 flamamte'},\n",
       " {'$ 5,490': 'Corsa Evolution sedan'},\n",
       " {'$ 11,500': 'Cómo nuevo Ford Ecosport XLT del 2008 modelo moderno versión full equipo aire acondicionado cero choques'},\n",
       " {'$ 8,650': 'Único dueño vende como nuevo Skoda Fabia Combi GT A05 del 2010 versión full equipo aire acondicionado cero choques'},\n",
       " {'$ 11,990': 'Como nuevo Chevrolet Grand Vitara Sport 3p del 2008 versión full equipo 4x4 aire acondicionado cero choques'},\n",
       " {'$ 51,000': 'Citroen 2017 Ambulancia Homologada'},\n",
       " {'$ 5,500': 'Vendo mazda 323'},\n",
       " {'$ 43,800': 'OPORTUNIDAD IMPECABLE TOYOTA FJ CRUISER, FULL, 4X4, 2010, TOTALMENTE EQUIPADO.'},\n",
       " {'$ 24,400': 'JEEP COMPASS 2017 AUTOMATICO 2.4 VALOR 24400$ 4X2 CON 34000km'},\n",
       " {'$ 23,800': 'OPORTUNIDAD MITSUBISHI MONTERO BLISTER 3P FULL 2006 4X4 3.8'},\n",
       " {'$ 44,800': 'Oportunidad Impecable Jeep Wrangler 3.6'},\n",
       " {'$ 11,600': 'FAMILY 2018 CON AIRE ACONDICIONADO'},\n",
       " {'$ 18,500': 'Citroen Berlingo 2014 Carroza fúnebre'},\n",
       " {'$ 12,600': 'NISSAN TIIDA 2015 MANUAL 13600$ CON 62000KM'},\n",
       " {'$ 25,800': 'COMPLETAMENTE IMPECABLE FORD EDGE 2013'},\n",
       " {'$ 8,999': 'Chevrolet SAIL 2015, Incluye SISTEMA DE SEGURIDAD Y BLOQUEO [VIPER]'},\n",
       " {'$ 9,300': 'Toyota Corolla 2006 $9300'},\n",
       " {'$ 7,990': 'Auto 2019 Chery q'},\n",
       " {'$ 16,800': 'FORD EXPLORER XTL 4X2 AÑO 2010 KILOMETRAJE 175000'},\n",
       " {'$ 19,800': 'OPORTUNIDAD PEUGEOT 207CC CONVERTIBLE DEPORTIVO 1.6 TURBO'},\n",
       " {'$ 111': 'IMPECABLE BMW 335I BITURBO DEPORTIVO COUPE'},\n",
       " {'$ 34,990': 'Ford F150 FX4 Full 2014'},\n",
       " {'$ 126,500': 'TOYOTA LAND CRUISER VX 200 AÑO2018'},\n",
       " {'$ 7,000': 'Chevrolet Aveo Activo 1.6 (NEGOCIABLE)'},\n",
       " {'$ 10,800': 'Kia Cerato Forte excelentes condiciones'},\n",
       " {'$ 19,990': '2015 CHEVROLET D-MAX 2.4 4x2'},\n",
       " {'$ 12,200': 'Chevrolet spark gt LTZ'},\n",
       " {'$ 20,900': 'Nissan kicks'},\n",
       " {'$ 13,800': 'Hyundai Accent 2014'},\n",
       " {'$ 15,990': 'Chevrolet Cruz 1.8cc automático P/7'},\n",
       " {'$ 6,400': 'Flamante Corsa Wind 2002, matricula 2020, Equipado en perfectas condiciones'},\n",
       " {'$ 18,700': 'Suzuki scross 2019 full equipo'},\n",
       " {'$ 10,500': 'Venta Aveo Chevrolet Activo 1.6 2010 full Aire condicionado y motor flamante'},\n",
       " {'$ 10,800': 'Vendo Hyundai Tucson color blanco'},\n",
       " {'$ 11,900': 'Hyunday gran I10'}]"
      ]
     },
     "execution_count": 2,
     "metadata": {},
     "output_type": "execute_result"
    }
   ],
   "source": [
    "driver.get('https://www.olx.com.ec/autos_c378')\n",
    "sleep(3)\n",
    "driver.refresh() # Solucion de un bug extraño en Windows en donde los anuncios solo cargan al hacerle refresh o al darle click a algun elemento\n",
    "sleep(5) # Esperamos que cargue el boton\n",
    "# Busco el boton para cargar mas informacion\n",
    "boton = driver.find_element_by_xpath('//button[@data-aut-id=\"btnLoadMore\"]')\n",
    "for i in range(3): # Voy a darle click en cargar mas 3 veces\n",
    "    try:\n",
    "        # le doy click\n",
    "        boton.click()\n",
    "        # espero que cargue la informacion dinamica\n",
    "        sleep(random.uniform(8.0, 10.0))\n",
    "        # busco el boton nuevamente para darle click en la siguiente iteracion\n",
    "        boton = driver.find_element_by_xpath('//button[@data-aut-id=\"btnLoadMore\"]')\n",
    "    except:\n",
    "        # si hay algun error, rompo el lazo. No me complico.\n",
    "        break\n",
    "\n",
    "# Encuentro cual es el XPATH de cada elemento donde esta la informacion que quiero extraer\n",
    "# Esto es una LISTA. Por eso el metodo esta en plural\n",
    "autos = driver.find_elements_by_xpath('//li[@data-aut-id=\"itemBox\"]')\n",
    "\n",
    "\n",
    "# Recorro cada uno de los anuncios que he encontrado\n",
    "dic=[]\n",
    "for auto in autos:\n",
    "    # Por cada anuncio hallo el precio\n",
    "    precio = auto.find_element_by_xpath('.//span[@data-aut-id=\"itemPrice\"]').text\n",
    "    # Por cada anuncio hallo la descripcion\n",
    "    descripcion = auto.find_element_by_xpath('.//span[@data-aut-id=\"itemTitle\"]').text\n",
    "    dic.append({precio:descripcion})\n",
    "dic"
   ]
  }
 ],
 "metadata": {
  "kernelspec": {
   "display_name": "Python 3",
   "language": "python",
   "name": "python3"
  },
  "language_info": {
   "codemirror_mode": {
    "name": "ipython",
    "version": 3
   },
   "file_extension": ".py",
   "mimetype": "text/x-python",
   "name": "python",
   "nbconvert_exporter": "python",
   "pygments_lexer": "ipython3",
   "version": "3.7.6"
  }
 },
 "nbformat": 4,
 "nbformat_minor": 4
}
